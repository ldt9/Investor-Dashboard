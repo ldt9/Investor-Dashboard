{
  "nbformat": 4,
  "nbformat_minor": 0,
  "metadata": {
    "colab": {
      "provenance": [],
      "authorship_tag": "ABX9TyOjHS4TjvY9hW+g1aqIqWKy",
      "include_colab_link": true
    },
    "kernelspec": {
      "name": "python3",
      "display_name": "Python 3"
    },
    "language_info": {
      "name": "python"
    }
  },
  "cells": [
    {
      "cell_type": "markdown",
      "metadata": {
        "id": "view-in-github",
        "colab_type": "text"
      },
      "source": [
        "<a href=\"https://colab.research.google.com/github/ldt9/Macroeconomic-Investor-Dashboard/blob/main/Investor_Dashboard_v1.ipynb\" target=\"_parent\"><img src=\"https://colab.research.google.com/assets/colab-badge.svg\" alt=\"Open In Colab\"/></a>"
      ]
    },
    {
      "cell_type": "markdown",
      "source": [
        "# ***Install and Import Libraries***"
      ],
      "metadata": {
        "id": "CJK8gNC8svud"
      }
    },
    {
      "cell_type": "code",
      "execution_count": null,
      "metadata": {
        "id": "FLy1U4VcF08D",
        "colab": {
          "base_uri": "https://localhost:8080/"
        },
        "outputId": "b82657a3-67a1-42bf-c8df-7cb3939fbdd7"
      },
      "outputs": [
        {
          "output_type": "stream",
          "name": "stdout",
          "text": [
            "Looking in indexes: https://pypi.org/simple, https://us-python.pkg.dev/colab-wheels/public/simple/\n",
            "Collecting yfinance==0.1.74\n",
            "  Downloading yfinance-0.1.74-py2.py3-none-any.whl (27 kB)\n",
            "Collecting requests>=2.26\n",
            "  Downloading requests-2.28.2-py3-none-any.whl (62 kB)\n",
            "\u001b[2K     \u001b[90m━━━━━━━━━━━━━━━━━━━━━━━━━━━━━━━━━━━━━━━━\u001b[0m \u001b[32m62.8/62.8 KB\u001b[0m \u001b[31m1.9 MB/s\u001b[0m eta \u001b[36m0:00:00\u001b[0m\n",
            "\u001b[?25hRequirement already satisfied: multitasking>=0.0.7 in /usr/local/lib/python3.8/dist-packages (from yfinance==0.1.74) (0.0.11)\n",
            "Requirement already satisfied: numpy>=1.15 in /usr/local/lib/python3.8/dist-packages (from yfinance==0.1.74) (1.21.6)\n",
            "Requirement already satisfied: lxml>=4.5.1 in /usr/local/lib/python3.8/dist-packages (from yfinance==0.1.74) (4.9.2)\n",
            "Requirement already satisfied: pandas>=0.24.0 in /usr/local/lib/python3.8/dist-packages (from yfinance==0.1.74) (1.3.5)\n",
            "Requirement already satisfied: python-dateutil>=2.7.3 in /usr/local/lib/python3.8/dist-packages (from pandas>=0.24.0->yfinance==0.1.74) (2.8.2)\n",
            "Requirement already satisfied: pytz>=2017.3 in /usr/local/lib/python3.8/dist-packages (from pandas>=0.24.0->yfinance==0.1.74) (2022.7.1)\n",
            "Requirement already satisfied: idna<4,>=2.5 in /usr/local/lib/python3.8/dist-packages (from requests>=2.26->yfinance==0.1.74) (2.10)\n",
            "Requirement already satisfied: certifi>=2017.4.17 in /usr/local/lib/python3.8/dist-packages (from requests>=2.26->yfinance==0.1.74) (2022.12.7)\n",
            "Requirement already satisfied: urllib3<1.27,>=1.21.1 in /usr/local/lib/python3.8/dist-packages (from requests>=2.26->yfinance==0.1.74) (1.24.3)\n",
            "Requirement already satisfied: charset-normalizer<4,>=2 in /usr/local/lib/python3.8/dist-packages (from requests>=2.26->yfinance==0.1.74) (3.0.1)\n",
            "Requirement already satisfied: six>=1.5 in /usr/local/lib/python3.8/dist-packages (from python-dateutil>=2.7.3->pandas>=0.24.0->yfinance==0.1.74) (1.15.0)\n",
            "Installing collected packages: requests, yfinance\n",
            "  Attempting uninstall: requests\n",
            "    Found existing installation: requests 2.25.1\n",
            "    Uninstalling requests-2.25.1:\n",
            "      Successfully uninstalled requests-2.25.1\n",
            "Successfully installed requests-2.28.2 yfinance-0.1.74\n",
            "Looking in indexes: https://pypi.org/simple, https://us-python.pkg.dev/colab-wheels/public/simple/\n",
            "Collecting fredapi\n",
            "  Downloading fredapi-0.5.0-py3-none-any.whl (11 kB)\n",
            "Requirement already satisfied: pandas in /usr/local/lib/python3.8/dist-packages (from fredapi) (1.3.5)\n",
            "Requirement already satisfied: numpy>=1.17.3 in /usr/local/lib/python3.8/dist-packages (from pandas->fredapi) (1.21.6)\n",
            "Requirement already satisfied: python-dateutil>=2.7.3 in /usr/local/lib/python3.8/dist-packages (from pandas->fredapi) (2.8.2)\n",
            "Requirement already satisfied: pytz>=2017.3 in /usr/local/lib/python3.8/dist-packages (from pandas->fredapi) (2022.7.1)\n",
            "Requirement already satisfied: six>=1.5 in /usr/local/lib/python3.8/dist-packages (from python-dateutil>=2.7.3->pandas->fredapi) (1.15.0)\n",
            "Installing collected packages: fredapi\n",
            "Successfully installed fredapi-0.5.0\n"
          ]
        }
      ],
      "source": [
        "!pip install yfinance==0.1.74 # For getting Price History of Assets\n",
        "!pip install fredapi"
      ]
    },
    {
      "cell_type": "code",
      "source": [
        "import datetime\n",
        "import sys\n",
        "import os\n",
        "import math\n",
        "import numpy as np\n",
        "import pandas as pd\n",
        "import matplotlib.pyplot as plt\n",
        "import yfinance as yf\n",
        "import fredapi\n",
        "from datetime import datetime, timedelta\n",
        "import matplotlib.ticker as mtick"
      ],
      "metadata": {
        "id": "ePlYkfLYGbEY"
      },
      "execution_count": null,
      "outputs": []
    },
    {
      "cell_type": "markdown",
      "source": [
        "# ***Mount the Google Drive for Data Access***"
      ],
      "metadata": {
        "id": "RfOuCacFbFTJ"
      }
    },
    {
      "cell_type": "code",
      "source": [
        "working_folder = 'Investment Dashboard' # Change this to what your folder is called\n",
        "\n",
        "from google.colab import drive\n",
        "drive.mount('/content/drive')\n",
        "\n",
        "if 'google.colab' in str(get_ipython()):\n",
        "  print('Running on CoLab')\n",
        "  root_dir='/content/drive/My Drive/Colab Notebooks/' + working_folder\n",
        "  if os.path.isdir(root_dir):\n",
        "    %cd $root_dir\n",
        "  else:\n",
        "    print('Check your working_folder or if Google drive is mounted')\n",
        "    sys.exit()\n",
        "  sys.path.append(root_dir)\n",
        "\n",
        "  %cd $root_dir\n",
        "\n",
        "  from IPython.display import clear_output \n",
        "  clear_output()\n",
        "  \n",
        "  print('Colab code has been executed')\n",
        "else:\n",
        "  print('Not running on Colab')"
      ],
      "metadata": {
        "colab": {
          "base_uri": "https://localhost:8080/"
        },
        "id": "WnlxNXVKbEnM",
        "outputId": "23df39e0-da3a-4028-9ed0-b7e3521ffd22"
      },
      "execution_count": null,
      "outputs": [
        {
          "output_type": "stream",
          "name": "stdout",
          "text": [
            "Colab code has been executed\n"
          ]
        }
      ]
    },
    {
      "cell_type": "markdown",
      "source": [
        "# ***Helper Plotting Function***"
      ],
      "metadata": {
        "id": "pHE82ngxIzK6"
      }
    },
    {
      "cell_type": "code",
      "source": [
        "def plot_figure(ax, data, label, title, start_date, end_date, fred, ylabel=\"\", plotRecessions=1, legend_loc='upper left'):\n",
        "    #Trim the data\n",
        "    data = data[start_date:end_date]\n",
        "    \n",
        "    # Add the current value to the legend\n",
        "    last_value = data.iloc[-1]\n",
        "    ax.plot(data, label=f'{label}: {last_value:.2f}{ylabel}')\n",
        "\n",
        "    if plotRecessions == 1:\n",
        "      # Get data for US Recessions from FRED\n",
        "      recessions = fred.get_series('USREC')\n",
        "\n",
        "      # Filter the recession data to start from the start date\n",
        "      recessions = recessions[start_date:end_date]\n",
        "      ax.fill_between(recessions.index, data.min(), data.max(), color='red', alpha=0.2, where=recessions.eq(1))\n",
        "\n",
        "    # Add labels and legend\n",
        "    ax.set_title(title)\n",
        "    ax.set_ylabel(ylabel)\n",
        "    ax.legend(loc=legend_loc)\n"
      ],
      "metadata": {
        "id": "xHqnEI4rAhPy"
      },
      "execution_count": null,
      "outputs": []
    },
    {
      "cell_type": "markdown",
      "source": [
        "# ***Create the Investor Dashboard***"
      ],
      "metadata": {
        "id": "khFTGuYPljcD"
      }
    },
    {
      "cell_type": "code",
      "source": [
        "def create_investor_dashboard(start_date, end_date=datetime.today()):\n",
        "    # Connect to FRED API\n",
        "    fred = fredapi.Fred(api_key='Your_FRED_API_Key')\n",
        "\n",
        "    # Get data for M2 Money Supply YoY % Change from FRED\n",
        "    m2_money_supply = fred.get_series('M2SL')\n",
        "\n",
        "    # Get data for Consumer Price Index YoY % Change from FRED\n",
        "    cpi = fred.get_series('CPIAUCNS')\n",
        "\n",
        "    # Calculate the YoY % change for CPI and M2 Money Supply\n",
        "    cpi_yoy = cpi.pct_change(periods=12) * 100\n",
        "    m2_yoy = m2_money_supply.pct_change(periods=12) * 100\n",
        "\n",
        "    # Get data for US 30 Year Treasury Yield\n",
        "    us30_treasury = yf.download('^TYX')\n",
        "\n",
        "    # Get data for \"US CPI vs US PPI\"\n",
        "    ppi = fred.get_series('PPIACO')\n",
        "\n",
        "    # Calculate the YoY % change for PPI\n",
        "    ppi_yoy = ppi.pct_change(periods=12) * 100\n",
        "\n",
        "    # Get data for yield curve\n",
        "    yield_curve = {}\n",
        "    yield_curve[0] = fred.get_series('DGS1MO')\n",
        "    yield_curve[1] = fred.get_series('DGS3MO')\n",
        "    yield_curve[2] = fred.get_series('DGS6MO')\n",
        "    yield_curve[3] = fred.get_series('DGS1')\n",
        "    yield_curve[4] = fred.get_series('DGS2')\n",
        "    yield_curve[5] = fred.get_series('DGS5')\n",
        "    yield_curve[6] = fred.get_series('DGS10')\n",
        "    yield_curve[7] = fred.get_series('DGS20')\n",
        "    yield_curve[8] = fred.get_series('DGS30')\n",
        "\n",
        "    # Get last value of each maturity\n",
        "    last_values = [yield_curve[i].iloc[-1] for i in yield_curve.keys()]\n",
        "    sixMo_values = [yield_curve[i].iloc[-180] for i in yield_curve.keys()]\n",
        "    oneYr_values = [yield_curve[i].iloc[-360] for i in yield_curve.keys()]\n",
        "    twoYr_values = [yield_curve[i].iloc[-720] for i in yield_curve.keys()]\n",
        "\n",
        "    # Combine the yields into a single DataFrame\n",
        "    yield_curve = pd.DataFrame(yield_curve)\n",
        "\n",
        "    # Get data for \"Japanese Yen to USD\"\n",
        "    jpy_usd = fred.get_series('DEXJPUS')\n",
        "\n",
        "    # Get data for \"GLD/TLT\"\n",
        "    gld = yf.download('GLD')\n",
        "    tlt = yf.download('TLT')\n",
        "    gld_tlt = gld['Close']/tlt['Close']\n",
        "\n",
        "    # Get data for \"^GSPC\" and 60/40 Portfolio\n",
        "    sp500 = yf.download('^GSPC')\n",
        "    sp500_yoy = sp500['Close'].pct_change(periods=252) * 100\n",
        "    tlt_yoy = tlt['Close'].pct_change(periods=252) * 100\n",
        "    sixtyforty_yoy = 0.6*sp500_yoy + 0.4*tlt_yoy\n",
        "    sp500_vol_6m = sp500_yoy.rolling(window=126).std()\n",
        "    sixtyforty_vol_6m = sixtyforty_yoy.rolling(window=126).std()\n",
        "\n",
        "    # Lucas' Portfolio Data\n",
        "    schd = yf.download('SCHD')\n",
        "    schd_yoy = schd['Close'].pct_change(periods=252) * 100\n",
        "    vglt = yf.download('VGLT')\n",
        "    vglt_yoy = vglt['Close'].pct_change(periods=252) * 100\n",
        "    vgsh = yf.download('VGSH')\n",
        "    vgsh_yoy = vgsh['Close'].pct_change(periods=252) * 100\n",
        "    vbr = yf.download('VBR')\n",
        "    vbr_yoy = vbr['Close'].pct_change(periods=252) * 100\n",
        "    gld_yoy = gld['Close'].pct_change(periods=252) * 100\n",
        "    port_yoy = 0.19*schd_yoy + 0.19*vglt_yoy + 0.19*vgsh_yoy + 0.19*vbr_yoy + 0.19*gld_yoy\n",
        "    port_vol_6m = port_yoy.rolling(window=126).std()\n",
        "\n",
        "    # Get data for \"SEC 7D Yield\"\n",
        "    yield7d_sec = fred.get_series('RIFSPPFAAD07NB')\n",
        "\n",
        "    # Get data for \"Federal Funds Rate vs 2Y Yield\"\n",
        "    fed_funds = fred.get_series('FEDFUNDS')\n",
        "    yield2 = fred.get_series('DGS2')\n",
        "\n",
        "    # Get data for 03M10Y Yield Inversion\n",
        "    yield03M = fred.get_series('DGS3MO')\n",
        "    yield10Y = fred.get_series('DGS10')\n",
        "    inversion_3m10y = yield10Y - yield03M\n",
        "\n",
        "    # Get data for Unemployment Rate\n",
        "    unrate = fred.get_series('UNRATE')\n",
        "\n",
        "    # Get data for Job Quits vs Job Openings\n",
        "    job_open = fred.get_series('JTSJOL')\n",
        "    job_open_yoy = job_open.pct_change(periods=12) * 100\n",
        "    job_quit = fred.get_series('JTSQUL')\n",
        "    job_quit_yoy = job_quit.pct_change(periods=12) * 100\n",
        "\n",
        "    # Get data for PCE and calculate YoY%\n",
        "    pce = fred.get_series('PCE')\n",
        "    pce_yoy = pce.pct_change(periods=12) * 100\n",
        "\n",
        "    # Get data for Durable Goods\n",
        "    dgoods = fred.get_series('DGORDER')\n",
        "\n",
        "    # Get data for US Labor Force Participation (Total, 55 Yrs+ SA, Women SA)\n",
        "    lfp_total = fred.get_series('CIVPART')\n",
        "    lfp_total_yoy = lfp_total.pct_change(periods=12) * 100\n",
        "    lfp_55 = fred.get_series('LNS11324230')\n",
        "    lfp_55_yoy = lfp_55.pct_change(periods=12) * 100\n",
        "    lfp_women = fred.get_series('LNS11300002')\n",
        "    lfp_women_yoy = lfp_women.pct_change(periods=12) * 100\n",
        "\n",
        "    # Get data for Continuing Jobless Claims\n",
        "    jobs_cont = fred.get_series('CCSA')\n",
        "\n",
        "    # Get data for Household Cash/Total Assets\n",
        "    house_cash = fred.get_series('SCABSHNO')\n",
        "    house_asset = fred.get_series('TFAABSHNO')\n",
        "    cashToasset = house_cash/house_asset\n",
        "\n",
        "    # Get data for Household Debt Service Payments as a Percent of Disposable Personal Income\n",
        "    house_DSR = fred.get_series('TDSP')\n",
        "\n",
        "    # Get data for Housing\n",
        "    housing_starts = fred.get_series('HOUST')\n",
        "    building_permits = fred.get_series('PERMIT')\n",
        "    new_home_sales = fred.get_series('HNFSEPUSSA')\n",
        "    new_home_sales_yoy = new_home_sales.pct_change(periods=12) * 100\n",
        "\n",
        "    # Create subplots, make adjustments, and add title\n",
        "    fig, ax = plt.subplots(nrows=10, ncols=2, figsize=(60, 40), sharex=False)\n",
        "    plt.tight_layout(rect=[0.02, 0, 0.97, 0.95])\n",
        "    plt.subplots_adjust(wspace=0.1,hspace=0.3)\n",
        "    end_date = end_date.strftime(\"%Y-%m-%d\")\n",
        "    fig.suptitle(f\"Investor Dashboard for {start_date} to {end_date}\\n Created by Lucas Troy\", fontsize=40)\n",
        "\n",
        "    # Plot M2 Money Supply YoY % Change vs CPI YoY % Change\n",
        "    plot_figure(ax[0,0], m2_yoy, 'M2 Money Supply YoY % Chg', 'M2 Money Supply YoY % Change vs CPI YoY % Change', start_date, end_date, fred, \"%\")\n",
        "    plot_figure(ax[0,0], cpi_yoy, 'CPI YoY % Chg', 'M2 Money Supply YoY % Change vs CPI YoY % Change', start_date, end_date, fred, \"%\", plotRecessions=0)\n",
        "\n",
        "    # Plot US 30 Year Treasury Yield vs CPI YoY % Change\n",
        "    plot_figure(ax[1,0], us30_treasury['Close'], 'US 30 Year Treasury Yield', 'US 30 Year Treasury Yield vs CPI YoY % Change', start_date, end_date, fred, \"%\", plotRecessions=0)\n",
        "    plot_figure(ax[1,0], cpi_yoy, 'CPI YoY % Chg', 'US 30 Year Treasury Yield vs CPI YoY % Change', start_date, end_date, fred, \"%\")\n",
        "\n",
        "    # Plot PPI YoY % Change vs CPI YoY % Change\n",
        "    plot_figure(ax[2,0], ppi_yoy, 'PPI YoY % Chg', 'PPI YoY % Change vs CPI YoY % Change', start_date, end_date, fred, \"%\")\n",
        "    plot_figure(ax[2,0], cpi_yoy, 'CPI YoY % Chg', 'PPI YoY % Change vs CPI YoY % Change', start_date, end_date, fred, \"%\", plotRecessions=0)\n",
        "\n",
        "    # Plot Yield Curve\n",
        "    ax[3,0].plot(last_values, '-o', label='Current')\n",
        "    ax[3,0].plot(sixMo_values, '-o', label='6 Months Ago')\n",
        "    ax[3,0].plot(oneYr_values, '-o', label='1 Year Ago')\n",
        "    ax[3,0].plot(twoYr_values, '-o', label='2 Years Ago')\n",
        "    ax[3,0].set_ylabel('Yield (%)')\n",
        "    ax[3,0].set_title('US Treasury Yield Curve')\n",
        "    ax[3,0].set_xticks(np.arange(len(yield_curve.columns)))\n",
        "    ax[3,0].set_xticklabels(('1 month', '3 months', '6 months', '1 year', '2 years', '5 years', '10 years', '20 years', '30 years'))\n",
        "    ax[3,0].set_xlim([0, len(yield_curve.columns)-1]) \n",
        "    ax[3,0].legend(loc='upper left')  \n",
        "\n",
        "    # Plot Japanese Yen to USD\n",
        "    plot_figure(ax[4,0], jpy_usd, 'Japanese Yen to USD', 'Japanese Yen to USD', start_date, end_date, fred)\n",
        "\n",
        "    # Plot GLD to TLT Ratio\n",
        "    plot_figure(ax[5,0], gld_tlt, 'GLD to TLT Ratio', 'GLD to TLT Ratio', start_date, end_date, fred)\n",
        "\n",
        "    # Plot S&P500 vs 60/40 Portfolio YoY Volatility\n",
        "    plot_figure(ax[6,0], sp500_vol_6m, 'S&P500', 'S&P500 vs 60/40 Portfolio vs My Portfolio 6m Volatility', start_date, end_date, fred, \"%\")\n",
        "    plot_figure(ax[6,0], sixtyforty_vol_6m, '60/40 Portfolio', 'S&P500 vs 60/40 Portfolio vs My Portfolio 6m Volatility', start_date, end_date, fred, \"%\", plotRecessions=0)\n",
        "    plot_figure(ax[6,0], port_vol_6m, 'My Portfolio', 'S&P500 vs 60/40 Portfolio vs My Portfolio 6m Volatility', start_date, end_date, fred, \"%\", plotRecessions=0)\n",
        "    # Add a horizontal line at y = 5%\n",
        "    ax[6,0].axhline(y=5, color='red', linestyle='--') \n",
        "\n",
        "    # Plot 7D SEC Yield\n",
        "    plot_figure(ax[7,0], yield7d_sec, '7D SEC Yield', '7D SEC Yield', start_date, end_date, fred, \"%\")\n",
        "\n",
        "    # Plot Federal Funds Rate vs 2Y Yield\n",
        "    plot_figure(ax[8,0], fed_funds, 'Federal Funds Rate', 'Federal Funds Rate vs 2Y Yield', start_date, end_date, fred, \"%\")\n",
        "    plot_figure(ax[8,0], yield2, 'US 2 Year Treasury Yield', 'Federal Funds Rate vs 2Y Yield', start_date, end_date, fred, \"%\", plotRecessions=0)\n",
        "\n",
        "    # Plot 03M10Y Yield Inversion\n",
        "    plot_figure(ax[9,0], inversion_3m10y, '03M10Y Yield Inversion', '03M10Y Yield Inversion', start_date, end_date, fred, \"%\")\n",
        "    # Add a horizontal line at y = 0.0\n",
        "    ax[9,0].axhline(y=0.0, color='red', linestyle='--') \n",
        "\n",
        "    # Plot Unemployment Rate\n",
        "    plot_figure(ax[0,1], unrate, 'Unemployment Rate', 'Unemployment Rate', start_date, end_date, fred, \"%\")\n",
        "\n",
        "    # Plot Job Quits vs Job Openings\n",
        "    plot_figure(ax[1,1], job_open_yoy, 'Job Openings', 'Job Openings vs Job Quits YoY', start_date, end_date, fred, \"%\")\n",
        "    plot_figure(ax[1,1], job_quit_yoy, 'Job Quits', 'Job Openings vs Job Quits YoY', start_date, end_date, fred, \"%\", plotRecessions=0)\n",
        "    # Add a horizontal line at y = 0.0\n",
        "    ax[1,1].axhline(y=0.0, color='red', linestyle='--') \n",
        "\n",
        "    # Plot US CPI vs US PCE vs Fed Funds Rate,\n",
        "    plot_figure(ax[2,1], pce_yoy, 'PCE YoY % Chg', 'US CPI vs US PCE vs Fed Funds Rate', start_date, end_date, fred, \"%\")\n",
        "    plot_figure(ax[2,1], cpi_yoy, 'CPI YoY % Chg', 'US CPI vs US PCE vs Fed Funds Rate', start_date, end_date, fred, \"%\", plotRecessions=0)\n",
        "    plot_figure(ax[2,1], fed_funds, 'Federal Funds Rate', 'US CPI YoY vs US PCE YoY vs Fed Funds Rate', start_date, end_date, fred, \"%\", plotRecessions=0)\n",
        "\n",
        "    # Plot Durable Goods\n",
        "    plot_figure(ax[3,1], dgoods, 'Durable Goods', 'Durable Goods', start_date, end_date, fred)\n",
        "    \n",
        "    # Plot US Labor Force Participation (Total, 55 Yrs+ SA, Women SA)\n",
        "    plot_figure(ax[4,1], lfp_total_yoy, 'Total', 'US Labor Force Participation YoY (Total, 55 Yrs+ SA, Women SA)', start_date, end_date, fred, \"%\", plotRecessions=0)\n",
        "    plot_figure(ax[4,1], lfp_55_yoy, '55 Yrs+', 'US Labor Force Participation YoY (Total, 55 Yrs+ SA, Women SA)', start_date, end_date, fred, \"%\")\n",
        "    plot_figure(ax[4,1], lfp_women_yoy, 'Women', 'US Labor Force Participation YoY (Total, 55 Yrs+ SA, Women SA)', start_date, end_date, fred, \"%\", plotRecessions=0)\n",
        "\n",
        "    # Plot Continuing Jobless Claims\n",
        "    plot_figure(ax[5,1], jobs_cont, 'Continuing Claims', 'Continuing Jobless Claims', start_date, end_date, fred)\n",
        "\n",
        "    # Plot Household Cash/Total Assets\n",
        "    plot_figure(ax[6,1], cashToasset, 'Household Cash/Total Assets', 'Household Cash/Total Assets', start_date, end_date, fred)\n",
        "\n",
        "    # Plot Household Debt Service Payments as a Percent of Disposable Personal Income\n",
        "    plot_figure(ax[7,1], house_DSR, 'DSR', 'Household Debt Service Payments as a Percent of Disposable Personal Income', start_date, end_date, fred, \"%\")\n",
        "\n",
        "    # Plot Housing Starts\n",
        "    plot_figure(ax[8,1], housing_starts, 'Housing Starts', 'Housing Starts', start_date, end_date, fred)\n",
        "\n",
        "    # Plot Home Sales YoY\n",
        "    plot_figure(ax[9,1], new_home_sales_yoy, 'New Home Sales', 'Home Sales YoY %', start_date, end_date, fred, \"%\")\n",
        "\n",
        "    # Save to PNG\n",
        "    plt.savefig(f'Investor Dashboard for {start_date} to {end_date}.png')\n",
        "\n",
        "    # Show plot\n",
        "    plt.show()\n",
        "\n",
        "\n",
        "# Call the function with a start date\n",
        "today = datetime.today()\n",
        "start_date = today - timedelta(days=365 * 20)\n",
        "start_date = start_date.strftime(\"%Y-%m-%d\")\n",
        "create_investor_dashboard(start_date)\n"
      ],
      "metadata": {
        "colab": {
          "base_uri": "https://localhost:8080/",
          "height": 443
        },
        "id": "BqYK1LMOzt7n",
        "outputId": "efb5755b-7f5f-4596-9270-edaccd68acbd"
      },
      "execution_count": null,
      "outputs": [
        {
          "output_type": "error",
          "ename": "ValueError",
          "evalue": "ignored",
          "traceback": [
            "\u001b[0;31m---------------------------------------------------------------------------\u001b[0m",
            "\u001b[0;31mHTTPError\u001b[0m                                 Traceback (most recent call last)",
            "\u001b[0;32m/usr/local/lib/python3.8/dist-packages/fredapi/fred.py\u001b[0m in \u001b[0;36m__fetch_data\u001b[0;34m(self, url)\u001b[0m\n\u001b[1;32m     63\u001b[0m         \u001b[0;32mtry\u001b[0m\u001b[0;34m:\u001b[0m\u001b[0;34m\u001b[0m\u001b[0;34m\u001b[0m\u001b[0m\n\u001b[0;32m---> 64\u001b[0;31m             \u001b[0mresponse\u001b[0m \u001b[0;34m=\u001b[0m \u001b[0murlopen\u001b[0m\u001b[0;34m(\u001b[0m\u001b[0murl\u001b[0m\u001b[0;34m)\u001b[0m\u001b[0;34m\u001b[0m\u001b[0;34m\u001b[0m\u001b[0m\n\u001b[0m\u001b[1;32m     65\u001b[0m             \u001b[0mroot\u001b[0m \u001b[0;34m=\u001b[0m \u001b[0mET\u001b[0m\u001b[0;34m.\u001b[0m\u001b[0mfromstring\u001b[0m\u001b[0;34m(\u001b[0m\u001b[0mresponse\u001b[0m\u001b[0;34m.\u001b[0m\u001b[0mread\u001b[0m\u001b[0;34m(\u001b[0m\u001b[0;34m)\u001b[0m\u001b[0;34m)\u001b[0m\u001b[0;34m\u001b[0m\u001b[0;34m\u001b[0m\u001b[0m\n",
            "\u001b[0;32m/usr/lib/python3.8/urllib/request.py\u001b[0m in \u001b[0;36murlopen\u001b[0;34m(url, data, timeout, cafile, capath, cadefault, context)\u001b[0m\n\u001b[1;32m    221\u001b[0m         \u001b[0mopener\u001b[0m \u001b[0;34m=\u001b[0m \u001b[0m_opener\u001b[0m\u001b[0;34m\u001b[0m\u001b[0;34m\u001b[0m\u001b[0m\n\u001b[0;32m--> 222\u001b[0;31m     \u001b[0;32mreturn\u001b[0m \u001b[0mopener\u001b[0m\u001b[0;34m.\u001b[0m\u001b[0mopen\u001b[0m\u001b[0;34m(\u001b[0m\u001b[0murl\u001b[0m\u001b[0;34m,\u001b[0m \u001b[0mdata\u001b[0m\u001b[0;34m,\u001b[0m \u001b[0mtimeout\u001b[0m\u001b[0;34m)\u001b[0m\u001b[0;34m\u001b[0m\u001b[0;34m\u001b[0m\u001b[0m\n\u001b[0m\u001b[1;32m    223\u001b[0m \u001b[0;34m\u001b[0m\u001b[0m\n",
            "\u001b[0;32m/usr/lib/python3.8/urllib/request.py\u001b[0m in \u001b[0;36mopen\u001b[0;34m(self, fullurl, data, timeout)\u001b[0m\n\u001b[1;32m    530\u001b[0m             \u001b[0mmeth\u001b[0m \u001b[0;34m=\u001b[0m \u001b[0mgetattr\u001b[0m\u001b[0;34m(\u001b[0m\u001b[0mprocessor\u001b[0m\u001b[0;34m,\u001b[0m \u001b[0mmeth_name\u001b[0m\u001b[0;34m)\u001b[0m\u001b[0;34m\u001b[0m\u001b[0;34m\u001b[0m\u001b[0m\n\u001b[0;32m--> 531\u001b[0;31m             \u001b[0mresponse\u001b[0m \u001b[0;34m=\u001b[0m \u001b[0mmeth\u001b[0m\u001b[0;34m(\u001b[0m\u001b[0mreq\u001b[0m\u001b[0;34m,\u001b[0m \u001b[0mresponse\u001b[0m\u001b[0;34m)\u001b[0m\u001b[0;34m\u001b[0m\u001b[0;34m\u001b[0m\u001b[0m\n\u001b[0m\u001b[1;32m    532\u001b[0m \u001b[0;34m\u001b[0m\u001b[0m\n",
            "\u001b[0;32m/usr/lib/python3.8/urllib/request.py\u001b[0m in \u001b[0;36mhttp_response\u001b[0;34m(self, request, response)\u001b[0m\n\u001b[1;32m    639\u001b[0m         \u001b[0;32mif\u001b[0m \u001b[0;32mnot\u001b[0m \u001b[0;34m(\u001b[0m\u001b[0;36m200\u001b[0m \u001b[0;34m<=\u001b[0m \u001b[0mcode\u001b[0m \u001b[0;34m<\u001b[0m \u001b[0;36m300\u001b[0m\u001b[0;34m)\u001b[0m\u001b[0;34m:\u001b[0m\u001b[0;34m\u001b[0m\u001b[0;34m\u001b[0m\u001b[0m\n\u001b[0;32m--> 640\u001b[0;31m             response = self.parent.error(\n\u001b[0m\u001b[1;32m    641\u001b[0m                 'http', request, response, code, msg, hdrs)\n",
            "\u001b[0;32m/usr/lib/python3.8/urllib/request.py\u001b[0m in \u001b[0;36merror\u001b[0;34m(self, proto, *args)\u001b[0m\n\u001b[1;32m    568\u001b[0m             \u001b[0margs\u001b[0m \u001b[0;34m=\u001b[0m \u001b[0;34m(\u001b[0m\u001b[0mdict\u001b[0m\u001b[0;34m,\u001b[0m \u001b[0;34m'default'\u001b[0m\u001b[0;34m,\u001b[0m \u001b[0;34m'http_error_default'\u001b[0m\u001b[0;34m)\u001b[0m \u001b[0;34m+\u001b[0m \u001b[0morig_args\u001b[0m\u001b[0;34m\u001b[0m\u001b[0;34m\u001b[0m\u001b[0m\n\u001b[0;32m--> 569\u001b[0;31m             \u001b[0;32mreturn\u001b[0m \u001b[0mself\u001b[0m\u001b[0;34m.\u001b[0m\u001b[0m_call_chain\u001b[0m\u001b[0;34m(\u001b[0m\u001b[0;34m*\u001b[0m\u001b[0margs\u001b[0m\u001b[0;34m)\u001b[0m\u001b[0;34m\u001b[0m\u001b[0;34m\u001b[0m\u001b[0m\n\u001b[0m\u001b[1;32m    570\u001b[0m \u001b[0;34m\u001b[0m\u001b[0m\n",
            "\u001b[0;32m/usr/lib/python3.8/urllib/request.py\u001b[0m in \u001b[0;36m_call_chain\u001b[0;34m(self, chain, kind, meth_name, *args)\u001b[0m\n\u001b[1;32m    501\u001b[0m             \u001b[0mfunc\u001b[0m \u001b[0;34m=\u001b[0m \u001b[0mgetattr\u001b[0m\u001b[0;34m(\u001b[0m\u001b[0mhandler\u001b[0m\u001b[0;34m,\u001b[0m \u001b[0mmeth_name\u001b[0m\u001b[0;34m)\u001b[0m\u001b[0;34m\u001b[0m\u001b[0;34m\u001b[0m\u001b[0m\n\u001b[0;32m--> 502\u001b[0;31m             \u001b[0mresult\u001b[0m \u001b[0;34m=\u001b[0m \u001b[0mfunc\u001b[0m\u001b[0;34m(\u001b[0m\u001b[0;34m*\u001b[0m\u001b[0margs\u001b[0m\u001b[0;34m)\u001b[0m\u001b[0;34m\u001b[0m\u001b[0;34m\u001b[0m\u001b[0m\n\u001b[0m\u001b[1;32m    503\u001b[0m             \u001b[0;32mif\u001b[0m \u001b[0mresult\u001b[0m \u001b[0;32mis\u001b[0m \u001b[0;32mnot\u001b[0m \u001b[0;32mNone\u001b[0m\u001b[0;34m:\u001b[0m\u001b[0;34m\u001b[0m\u001b[0;34m\u001b[0m\u001b[0m\n",
            "\u001b[0;32m/usr/lib/python3.8/urllib/request.py\u001b[0m in \u001b[0;36mhttp_error_default\u001b[0;34m(self, req, fp, code, msg, hdrs)\u001b[0m\n\u001b[1;32m    648\u001b[0m     \u001b[0;32mdef\u001b[0m \u001b[0mhttp_error_default\u001b[0m\u001b[0;34m(\u001b[0m\u001b[0mself\u001b[0m\u001b[0;34m,\u001b[0m \u001b[0mreq\u001b[0m\u001b[0;34m,\u001b[0m \u001b[0mfp\u001b[0m\u001b[0;34m,\u001b[0m \u001b[0mcode\u001b[0m\u001b[0;34m,\u001b[0m \u001b[0mmsg\u001b[0m\u001b[0;34m,\u001b[0m \u001b[0mhdrs\u001b[0m\u001b[0;34m)\u001b[0m\u001b[0;34m:\u001b[0m\u001b[0;34m\u001b[0m\u001b[0;34m\u001b[0m\u001b[0m\n\u001b[0;32m--> 649\u001b[0;31m         \u001b[0;32mraise\u001b[0m \u001b[0mHTTPError\u001b[0m\u001b[0;34m(\u001b[0m\u001b[0mreq\u001b[0m\u001b[0;34m.\u001b[0m\u001b[0mfull_url\u001b[0m\u001b[0;34m,\u001b[0m \u001b[0mcode\u001b[0m\u001b[0;34m,\u001b[0m \u001b[0mmsg\u001b[0m\u001b[0;34m,\u001b[0m \u001b[0mhdrs\u001b[0m\u001b[0;34m,\u001b[0m \u001b[0mfp\u001b[0m\u001b[0;34m)\u001b[0m\u001b[0;34m\u001b[0m\u001b[0;34m\u001b[0m\u001b[0m\n\u001b[0m\u001b[1;32m    650\u001b[0m \u001b[0;34m\u001b[0m\u001b[0m\n",
            "\u001b[0;31mHTTPError\u001b[0m: HTTP Error 400: Bad Request",
            "\nDuring handling of the above exception, another exception occurred:\n",
            "\u001b[0;31mValueError\u001b[0m                                Traceback (most recent call last)",
            "\u001b[0;32m<ipython-input-8-c8e849417a1f>\u001b[0m in \u001b[0;36m<module>\u001b[0;34m\u001b[0m\n\u001b[1;32m    209\u001b[0m \u001b[0mstart_date\u001b[0m \u001b[0;34m=\u001b[0m \u001b[0mtoday\u001b[0m \u001b[0;34m-\u001b[0m \u001b[0mtimedelta\u001b[0m\u001b[0;34m(\u001b[0m\u001b[0mdays\u001b[0m\u001b[0;34m=\u001b[0m\u001b[0;36m365\u001b[0m \u001b[0;34m*\u001b[0m \u001b[0;36m20\u001b[0m\u001b[0;34m)\u001b[0m\u001b[0;34m\u001b[0m\u001b[0;34m\u001b[0m\u001b[0m\n\u001b[1;32m    210\u001b[0m \u001b[0mstart_date\u001b[0m \u001b[0;34m=\u001b[0m \u001b[0mstart_date\u001b[0m\u001b[0;34m.\u001b[0m\u001b[0mstrftime\u001b[0m\u001b[0;34m(\u001b[0m\u001b[0;34m\"%Y-%m-%d\"\u001b[0m\u001b[0;34m)\u001b[0m\u001b[0;34m\u001b[0m\u001b[0;34m\u001b[0m\u001b[0m\n\u001b[0;32m--> 211\u001b[0;31m \u001b[0mcreate_investor_dashboard\u001b[0m\u001b[0;34m(\u001b[0m\u001b[0mstart_date\u001b[0m\u001b[0;34m)\u001b[0m\u001b[0;34m\u001b[0m\u001b[0;34m\u001b[0m\u001b[0m\n\u001b[0m",
            "\u001b[0;32m<ipython-input-8-c8e849417a1f>\u001b[0m in \u001b[0;36mcreate_investor_dashboard\u001b[0;34m(start_date, end_date)\u001b[0m\n\u001b[1;32m      4\u001b[0m \u001b[0;34m\u001b[0m\u001b[0m\n\u001b[1;32m      5\u001b[0m     \u001b[0;31m# Get data for M2 Money Supply YoY % Change from FRED\u001b[0m\u001b[0;34m\u001b[0m\u001b[0;34m\u001b[0m\u001b[0;34m\u001b[0m\u001b[0m\n\u001b[0;32m----> 6\u001b[0;31m     \u001b[0mm2_money_supply\u001b[0m \u001b[0;34m=\u001b[0m \u001b[0mfred\u001b[0m\u001b[0;34m.\u001b[0m\u001b[0mget_series\u001b[0m\u001b[0;34m(\u001b[0m\u001b[0;34m'm2sl'\u001b[0m\u001b[0;34m)\u001b[0m\u001b[0;34m\u001b[0m\u001b[0;34m\u001b[0m\u001b[0m\n\u001b[0m\u001b[1;32m      7\u001b[0m \u001b[0;34m\u001b[0m\u001b[0m\n\u001b[1;32m      8\u001b[0m     \u001b[0;31m# Get data for Consumer Price Index YoY % Change from FRED\u001b[0m\u001b[0;34m\u001b[0m\u001b[0;34m\u001b[0m\u001b[0;34m\u001b[0m\u001b[0m\n",
            "\u001b[0;32m/usr/local/lib/python3.8/dist-packages/fredapi/fred.py\u001b[0m in \u001b[0;36mget_series\u001b[0;34m(self, series_id, observation_start, observation_end, **kwargs)\u001b[0m\n\u001b[1;32m    129\u001b[0m         \u001b[0;32mif\u001b[0m \u001b[0mkwargs\u001b[0m\u001b[0;34m.\u001b[0m\u001b[0mkeys\u001b[0m\u001b[0;34m(\u001b[0m\u001b[0;34m)\u001b[0m\u001b[0;34m:\u001b[0m\u001b[0;34m\u001b[0m\u001b[0;34m\u001b[0m\u001b[0m\n\u001b[1;32m    130\u001b[0m             \u001b[0murl\u001b[0m \u001b[0;34m+=\u001b[0m \u001b[0;34m'&'\u001b[0m \u001b[0;34m+\u001b[0m \u001b[0murlencode\u001b[0m\u001b[0;34m(\u001b[0m\u001b[0mkwargs\u001b[0m\u001b[0;34m)\u001b[0m\u001b[0;34m\u001b[0m\u001b[0;34m\u001b[0m\u001b[0m\n\u001b[0;32m--> 131\u001b[0;31m         \u001b[0mroot\u001b[0m \u001b[0;34m=\u001b[0m \u001b[0mself\u001b[0m\u001b[0;34m.\u001b[0m\u001b[0m__fetch_data\u001b[0m\u001b[0;34m(\u001b[0m\u001b[0murl\u001b[0m\u001b[0;34m)\u001b[0m\u001b[0;34m\u001b[0m\u001b[0;34m\u001b[0m\u001b[0m\n\u001b[0m\u001b[1;32m    132\u001b[0m         \u001b[0;32mif\u001b[0m \u001b[0mroot\u001b[0m \u001b[0;32mis\u001b[0m \u001b[0;32mNone\u001b[0m\u001b[0;34m:\u001b[0m\u001b[0;34m\u001b[0m\u001b[0;34m\u001b[0m\u001b[0m\n\u001b[1;32m    133\u001b[0m             \u001b[0;32mraise\u001b[0m \u001b[0mValueError\u001b[0m\u001b[0;34m(\u001b[0m\u001b[0;34m'No data exists for series id: '\u001b[0m \u001b[0;34m+\u001b[0m \u001b[0mseries_id\u001b[0m\u001b[0;34m)\u001b[0m\u001b[0;34m\u001b[0m\u001b[0;34m\u001b[0m\u001b[0m\n",
            "\u001b[0;32m/usr/local/lib/python3.8/dist-packages/fredapi/fred.py\u001b[0m in \u001b[0;36m__fetch_data\u001b[0;34m(self, url)\u001b[0m\n\u001b[1;32m     66\u001b[0m         \u001b[0;32mexcept\u001b[0m \u001b[0mHTTPError\u001b[0m \u001b[0;32mas\u001b[0m \u001b[0mexc\u001b[0m\u001b[0;34m:\u001b[0m\u001b[0;34m\u001b[0m\u001b[0;34m\u001b[0m\u001b[0m\n\u001b[1;32m     67\u001b[0m             \u001b[0mroot\u001b[0m \u001b[0;34m=\u001b[0m \u001b[0mET\u001b[0m\u001b[0;34m.\u001b[0m\u001b[0mfromstring\u001b[0m\u001b[0;34m(\u001b[0m\u001b[0mexc\u001b[0m\u001b[0;34m.\u001b[0m\u001b[0mread\u001b[0m\u001b[0;34m(\u001b[0m\u001b[0;34m)\u001b[0m\u001b[0;34m)\u001b[0m\u001b[0;34m\u001b[0m\u001b[0;34m\u001b[0m\u001b[0m\n\u001b[0;32m---> 68\u001b[0;31m             \u001b[0;32mraise\u001b[0m \u001b[0mValueError\u001b[0m\u001b[0;34m(\u001b[0m\u001b[0mroot\u001b[0m\u001b[0;34m.\u001b[0m\u001b[0mget\u001b[0m\u001b[0;34m(\u001b[0m\u001b[0;34m'message'\u001b[0m\u001b[0;34m)\u001b[0m\u001b[0;34m)\u001b[0m\u001b[0;34m\u001b[0m\u001b[0;34m\u001b[0m\u001b[0m\n\u001b[0m\u001b[1;32m     69\u001b[0m         \u001b[0;32mreturn\u001b[0m \u001b[0mroot\u001b[0m\u001b[0;34m\u001b[0m\u001b[0;34m\u001b[0m\u001b[0m\n\u001b[1;32m     70\u001b[0m \u001b[0;34m\u001b[0m\u001b[0m\n",
            "\u001b[0;31mValueError\u001b[0m: Bad Request.  The value for variable api_key is not a 32 character alpha-numeric lower-case string.  Read https://fred.stlouisfed.org/docs/api/api_key.html for more information."
          ]
        }
      ]
    }
  ]
}